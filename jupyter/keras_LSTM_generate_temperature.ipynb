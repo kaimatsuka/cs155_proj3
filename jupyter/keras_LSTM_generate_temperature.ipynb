{
 "cells": [
  {
   "cell_type": "markdown",
   "metadata": {},
   "source": [
    "# LSTM Poem Generation\n",
    "\n",
    "This Jupyter notebook loads the already-trained LSTM model and generates a poem with specified tempearature."
   ]
  },
  {
   "cell_type": "code",
   "execution_count": 3,
   "metadata": {},
   "outputs": [],
   "source": [
    "import numpy as np\n",
    "from pickle import load\n",
    "from pickle import dump\n",
    "from keras.utils import to_categorical\n",
    "from keras.models import Sequential\n",
    "from keras.models import load_model\n",
    "from keras.layers import Dense\n",
    "from keras.layers import LSTM\n",
    "from keras.preprocessing.sequence import pad_sequences\n",
    "from keras.preprocessing.text import text_to_word_sequence"
   ]
  },
  {
   "cell_type": "code",
   "execution_count": 4,
   "metadata": {},
   "outputs": [],
   "source": [
    "def sample(preds, temperature=1.0):\n",
    "    # helper function to sample an index from a probability array\n",
    "    preds = np.asarray(preds).astype('float64')\n",
    "    preds = np.log(preds) / temperature\n",
    "    exp_preds = np.exp(preds)\n",
    "    preds = exp_preds / np.sum(exp_preds)\n",
    "    probas = np.random.multinomial(1, preds, 1)\n",
    "    return np.argmax(probas)"
   ]
  },
  {
   "cell_type": "code",
   "execution_count": 5,
   "metadata": {},
   "outputs": [],
   "source": [
    "def generate_seq(model, mapping, seq_length, seed_text, n_chars, temp):\n",
    "    in_text = seed_text\n",
    "    # generate a fixed number of characters\n",
    "    for _ in range(n_chars):\n",
    "        # encode the characters as integers\n",
    "        encoded = [mapping[char] for char in in_text]\n",
    "        # truncate sequences to a fixed length\n",
    "        encoded = pad_sequences([encoded], maxlen=seq_length, truncating='pre')\n",
    "        # one hot encode\n",
    "        encoded = to_categorical(encoded, num_classes=len(mapping))\n",
    "        # predict character\n",
    "        yhat = model.predict(encoded, verbose=0)[0]\n",
    "        next_index = sample(yhat, temp)\n",
    "        # reverse map integer to character\n",
    "        out_char = ''\n",
    "        for char, index in mapping.items():\n",
    "            if index == next_index:\n",
    "                out_char = char\n",
    "                break\n",
    "        # append to input\n",
    "        in_text += char\n",
    "    return in_text"
   ]
  },
  {
   "cell_type": "code",
   "execution_count": 8,
   "metadata": {},
   "outputs": [],
   "source": [
    "# load the model\n",
    "model = load_model('shakespeare_LSTM_model_v7.h5')\n",
    "# load the mapping\n",
    "mapping = load(open('shakespeare_mapping_v7.pkl', 'rb'))"
   ]
  },
  {
   "cell_type": "code",
   "execution_count": 9,
   "metadata": {},
   "outputs": [
    {
     "name": "stdout",
     "output_type": "stream",
     "text": [
      "shall i compare thee to a summer's day?\n",
      "thou art more lovely and is permere\n",
      "where praise of my pays some recouding youth\n",
      "unstay\n",
      "to sccrpe dway wells to the scoudds of aloned\n",
      "and can of badies distarce their goodel\n",
      "feeding thee i am new sagh rays but one\n",
      "no single great for carnan and-memored\n",
      "and gives thisve this forther of my fade\n",
      "sones of thee adother we ackind thought\n",
      "asthors muse rnome recomper on that heavence abused\n",
      "which victly is seck in my heart anoth\n",
      "when it thou thy love that theh thou wilt love ast\n",
      "in shides and him mark the wouldst for my\n",
      "sometime that you receive his cauntered we\n",
      "pecking atcrreff tjuch too abour-dothin\n"
     ]
    }
   ],
   "source": [
    "# Generate sequence of length N using given seed and temperature\n",
    "N = 600\n",
    "temp = 0.75\n",
    "seed = \"shall i compare thee to a summer's day?\\n\"\n",
    "print(generate_seq(model, mapping, 40, seed, N, temp))"
   ]
  }
 ],
 "metadata": {
  "kernelspec": {
   "display_name": "Python 3",
   "language": "python",
   "name": "python3"
  },
  "language_info": {
   "codemirror_mode": {
    "name": "ipython",
    "version": 3
   },
   "file_extension": ".py",
   "mimetype": "text/x-python",
   "name": "python",
   "nbconvert_exporter": "python",
   "pygments_lexer": "ipython3",
   "version": "3.7.6"
  }
 },
 "nbformat": 4,
 "nbformat_minor": 2
}
