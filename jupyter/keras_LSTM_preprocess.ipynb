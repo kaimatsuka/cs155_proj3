{
 "cells": [
  {
   "cell_type": "markdown",
   "metadata": {},
   "source": [
    "# Preprocess for LSTM \n",
    "\n",
    "This Jupyter notebook is for pre-processing the Shakespeare poems. It deducts some punctuations and make all characters lower case."
   ]
  },
  {
   "cell_type": "code",
   "execution_count": 10,
   "metadata": {},
   "outputs": [],
   "source": [
    "import io\n",
    "\n",
    "def load_doc(filename):\n",
    "    file = open(filename, 'r')\n",
    "    text = file.readlines()\n",
    "    file.close()\n",
    "    return text\n",
    "\n",
    "def save_doc(lines, filename):\n",
    "    data = '\\n'.join(lines)\n",
    "    file = open(filename, 'w')\n",
    "    file.write(data)\n",
    "    file.close()"
   ]
  },
  {
   "cell_type": "code",
   "execution_count": 11,
   "metadata": {},
   "outputs": [
    {
     "name": "stdout",
     "output_type": "stream",
     "text": [
      "from fairest creatures we desire increase\n",
      "that thereby beauty's rose might never die\n",
      "but as the riper should by time decease\n",
      "his tender heir might bear his memory\n",
      "but thou contracted to thine own bright eyes\n",
      "feed'st thy light's flame with self-substantial fuel\n",
      "making a famine where abundance lies\n",
      "thy self thy foe to thy sweet self too cruel\n",
      "thou that art now the world's fresh ornament\n",
      "and only herald to the gaudy spring\n",
      "within thine own bud buriest thy content\n",
      "and tender churl mak'st waste in niggarding\n",
      "pity the world or else this glutton be\n",
      "to eat the world's due by the grave and thee\n",
      "when forty winters shall besiege thy brow\n",
      "and dig deep trenches in thy beauty's field\n",
      "thy youth's proud livery so gazed on now\n",
      "will be a tattered weed of small worth held\n",
      "then being asked where all thy beauty lies\n",
      "where all the treasure of thy lusty days\n",
      "to say within thine own deep sunken eyes\n",
      "were an all-eating shame and thriftless praise\n",
      "how much more praise deserved thy beauty's use\n",
      "if thou couldst answer 'this fair child of mine\n",
      "shall sum my count and make my old excuse'\n",
      "proving his beauty by succession thine\n",
      "this were to be new made when thou art old\n",
      "and see thy blood warm when thou feel'st it cold\n",
      "look in thy glass and tell the face thou viewest\n",
      "now is the time that face should form another\n",
      "\n"
     ]
    }
   ],
   "source": [
    "raw_text = load_doc('../data/shakespeare.txt')\n",
    "\n",
    "for i in range(len(raw_text)):\n",
    "    # get rid of lines that contain numbers\n",
    "    if len(raw_text[i].split('   ')) != 1:\n",
    "        raw_text[i] = ''\n",
    "    \n",
    "    # get rid of lines in between poems\n",
    "    if len(raw_text[i]) == 1:\n",
    "        raw_text[i] = ''\n",
    "        \n",
    "    # get rid of indents in couplet\n",
    "    if len(raw_text[i]) != 0 and raw_text[i][0] == ' ':\n",
    "        raw_text[i] = raw_text[i][2:-1] + '\\n'\n",
    "    \n",
    "text = ''.join(raw_text)\n",
    "\n",
    "# uppercase -> lowercase\n",
    "text = text.lower()\n",
    "\n",
    "# remove all punctuations, except !, ?, and \\n\n",
    "text = text.replace(',','')\n",
    "text = text.replace('.','')\n",
    "text = text.replace(':','')\n",
    "text = text.replace(';','')\n",
    "text = text.replace('(','')\n",
    "text = text.replace(')','')\n",
    "\n",
    "\n",
    "buf = io.StringIO(text)\n",
    "sample_text = \"\"\n",
    "for i in range(30):\n",
    "    sample_text += buf.readline()\n",
    "\n",
    "print(sample_text)"
   ]
  },
  {
   "cell_type": "code",
   "execution_count": 12,
   "metadata": {},
   "outputs": [],
   "source": [
    "# save pre-processed text as a new file\n",
    "filew = open('shakespeare_LSTM_lower_nopunc.txt', 'w')\n",
    "filew.write(text)\n",
    "filew.close()"
   ]
  }
 ],
 "metadata": {
  "kernelspec": {
   "display_name": "Python 3",
   "language": "python",
   "name": "python3"
  },
  "language_info": {
   "codemirror_mode": {
    "name": "ipython",
    "version": 3
   },
   "file_extension": ".py",
   "mimetype": "text/x-python",
   "name": "python",
   "nbconvert_exporter": "python",
   "pygments_lexer": "ipython3",
   "version": "3.7.6"
  }
 },
 "nbformat": 4,
 "nbformat_minor": 2
}
